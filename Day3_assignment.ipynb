{
  "nbformat": 4,
  "nbformat_minor": 0,
  "metadata": {
    "colab": {
      "provenance": [],
      "authorship_tag": "ABX9TyPyxWRjUBMQzz+BeRtG7+CS",
      "include_colab_link": true
    },
    "kernelspec": {
      "name": "python3",
      "display_name": "Python 3"
    },
    "language_info": {
      "name": "python"
    }
  },
  "cells": [
    {
      "cell_type": "markdown",
      "metadata": {
        "id": "view-in-github",
        "colab_type": "text"
      },
      "source": [
        "<a href=\"https://colab.research.google.com/github/Namith143namith/atme_dsml1/blob/main/Day3_assignment.ipynb\" target=\"_parent\"><img src=\"https://colab.research.google.com/assets/colab-badge.svg\" alt=\"Open In Colab\"/></a>"
      ]
    },
    {
      "cell_type": "code",
      "execution_count": 8,
      "metadata": {
        "colab": {
          "base_uri": "https://localhost:8080/"
        },
        "id": "rAJNKb1vq-Yt",
        "outputId": "53368c8b-3178-496c-f17a-a459a937fd86"
      },
      "outputs": [
        {
          "output_type": "stream",
          "name": "stdout",
          "text": [
            "Probability of Heads: 0.5833333333333334\n",
            "Probability of Tails: 0.4166666666666667\n",
            "Probability of having disease given positive test: 0.16666666666666669\n"
          ]
        }
      ],
      "source": [
        "\n",
        "total_flips = 60\n",
        "heads = 35\n",
        "tails = 25\n",
        "\n",
        "p_heads = heads / total_flips\n",
        "p_tails = tails / total_flips\n",
        "\n",
        "print(\"Probability of Heads:\", p_heads)\n",
        "print(\"Probability of Tails:\", p_tails)\n",
        "\n",
        "\n",
        "p_disease = 0.01\n",
        "p_positive_given_disease = 0.99\n",
        "p_positive_given_no_disease = 0.05\n",
        "p_no_disease = 1 - p_disease\n",
        "\n",
        "p_positive = (p_positive_given_disease * p_disease) + \\\n",
        "             (p_positive_given_no_disease * p_no_disease)\n",
        "\n",
        "p_disease_given_positive = (p_positive_given_disease * p_disease) / p_positive\n",
        "\n",
        "print(\"Probability of having disease given positive test:\", p_disease_given_positive )\n",
        ""
      ]
    },
    {
      "cell_type": "code",
      "source": [
        "def f(x):\n",
        "    return 3*x**2 + 2*x - 5\n",
        "\n",
        "def derivative_f(x):\n",
        "    return 6*x + 2\n",
        "\n",
        "x_val = 3\n",
        "print(\"f(x) =\", f(x_val))\n",
        "print(\"f'(x) =\", derivative_f(x_val))\n",
        "x = 3.0\n",
        "learning_rate = 0.2\n",
        "\n",
        "gradient = derivative_f(x)\n",
        "x_new = x - learning_rate * gradient\n",
        "\n",
        "print(\"Updated x:\", x_new)\n"
      ],
      "metadata": {
        "colab": {
          "base_uri": "https://localhost:8080/"
        },
        "id": "aSWjq19juUrE",
        "outputId": "83200cfc-204e-4f65-9043-137d7525fc72"
      },
      "execution_count": 9,
      "outputs": [
        {
          "output_type": "stream",
          "name": "stdout",
          "text": [
            "f(x) = 28\n",
            "f'(x) = 20\n",
            "Updated x: -1.0\n"
          ]
        }
      ]
    }
  ]
}