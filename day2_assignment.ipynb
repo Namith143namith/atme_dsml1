{
  "nbformat": 4,
  "nbformat_minor": 0,
  "metadata": {
    "colab": {
      "provenance": [],
      "authorship_tag": "ABX9TyOC2GMOt2/QXX9Kva1jhblL",
      "include_colab_link": true
    },
    "kernelspec": {
      "name": "python3",
      "display_name": "Python 3"
    },
    "language_info": {
      "name": "python"
    }
  },
  "cells": [
    {
      "cell_type": "markdown",
      "metadata": {
        "id": "view-in-github",
        "colab_type": "text"
      },
      "source": [
        "<a href=\"https://colab.research.google.com/github/Namith143namith/atme_dsml1/blob/main/day2_assignment.ipynb\" target=\"_parent\"><img src=\"https://colab.research.google.com/assets/colab-badge.svg\" alt=\"Open In Colab\"/></a>"
      ]
    },
    {
      "cell_type": "code",
      "execution_count": 1,
      "metadata": {
        "colab": {
          "base_uri": "https://localhost:8080/"
        },
        "id": "Fi89TfsZl8MM",
        "outputId": "b68fd7b3-8d00-4bca-f7d5-e267a9369273"
      },
      "outputs": [
        {
          "output_type": "stream",
          "name": "stdout",
          "text": [
            "Result of A x B:\n",
            " [[11 10]\n",
            " [10 11]]\n"
          ]
        }
      ],
      "source": [
        "#Implement a function in NumPy to perform matrix multiplication for two given matrices.\n",
        "\n",
        "\n",
        "import numpy as np\n",
        "\n",
        "def matrix_multiply(A, B):\n",
        "    return np.dot(A, B)\n",
        "\n",
        "A = np.array([[1, 2],\n",
        "              [2, 1]])\n",
        "\n",
        "B = np.array([[3, 4],\n",
        "              [4, 3]])\n",
        "result = matrix_multiply(A, B)\n",
        "print(\"Result of A x B:\\n\", result)"
      ]
    },
    {
      "cell_type": "code",
      "source": [
        "#Given a small dataset, perform Min-Max Scaling and Standardization on a numerical\n",
        "#feature without using sklearn preprocessing.\n",
        "\n",
        "import numpy as np\n",
        "\n",
        "data = np.array([15, 28, 20, 55, 58])\n",
        "\n",
        "def min_max_scaling(x):\n",
        "    min_val = np.min(x)\n",
        "    max_val = np.max(x)\n",
        "    return (x - min_val) / (max_val - min_val)\n",
        "\n",
        "def standardize(x):\n",
        "    mean = np.mean(x)\n",
        "    std = np.std(x)\n",
        "    return (x - mean) / std\n",
        "\n",
        "scaled_data = min_max_scaling(data)\n",
        "standardized_data = standardize(data)\n",
        "\n",
        "print(\"Original Data:       \", data)\n",
        "print(\"Min-Max Scaled:      \", scaled_data)\n",
        "print(\"Standardized (Z-Score):\", standardized_data)\n"
      ],
      "metadata": {
        "colab": {
          "base_uri": "https://localhost:8080/"
        },
        "id": "ZgC7CrfynAH5",
        "outputId": "baae937f-e1a3-479c-d6eb-7658468c45cc"
      },
      "execution_count": 2,
      "outputs": [
        {
          "output_type": "stream",
          "name": "stdout",
          "text": [
            "Original Data:        [15 28 20 55 58]\n",
            "Min-Max Scaled:       [0.         0.30232558 0.11627907 0.93023256 1.        ]\n",
            "Standardized (Z-Score): [-1.12822756 -0.40214052 -0.84896331  1.10588642  1.27344497]\n"
          ]
        }
      ]
    },
    {
      "cell_type": "code",
      "source": [],
      "metadata": {
        "id": "lzZQQQ6_nbkk"
      },
      "execution_count": null,
      "outputs": []
    }
  ]
}